{
  "nbformat": 4,
  "nbformat_minor": 0,
  "metadata": {
    "colab": {
      "provenance": [],
      "authorship_tag": "ABX9TyN2qkaHv7cErxkCf5Krl0DV",
      "include_colab_link": true
    },
    "kernelspec": {
      "name": "python3",
      "display_name": "Python 3"
    },
    "language_info": {
      "name": "python"
    }
  },
  "cells": [
    {
      "cell_type": "markdown",
      "metadata": {
        "id": "view-in-github",
        "colab_type": "text"
      },
      "source": [
        "<a href=\"https://colab.research.google.com/github/nikaciaboing/Programacao-Orientada-a-Objeto/blob/main/att.ipynb\" target=\"_parent\"><img src=\"https://colab.research.google.com/assets/colab-badge.svg\" alt=\"Open In Colab\"/></a>"
      ]
    },
    {
      "cell_type": "markdown",
      "source": [
        "class Usuario():\n",
        "primeiroNome = “”\n",
        "ultimoNome = “”\n",
        "\n",
        "1. Acrescente à classe Usuario um método construtor para definir um valor para a propriedade\n",
        "primeiroNome assim que o objeto for criado."
      ],
      "metadata": {
        "id": "JDeePITBf-YQ"
      }
    },
    {
      "cell_type": "code",
      "execution_count": null,
      "metadata": {
        "id": "i9W4VdAtVodZ",
        "colab": {
          "base_uri": "https://localhost:8080/"
        },
        "outputId": "cdbb6650-fab2-4607-d435-3b49bfbc6170"
      },
      "outputs": [
        {
          "output_type": "stream",
          "name": "stdout",
          "text": [
            "Nikacia\n"
          ]
        }
      ],
      "source": [
        "class Usuario():\n",
        "    def __init__(self, primeiroNome):\n",
        "        self.primeiroNome = primeiroNome\n",
        "        self.ultimoNome = \"\"\n",
        "usuario1 = Usuario(\"Nikacia\")\n",
        "print(usuario1.primeiroNome)"
      ]
    },
    {
      "cell_type": "markdown",
      "source": [
        "2. Acrescente ao construtor a capacidade de definir o valor da propriedade ultimoNome, bem como a\n",
        "propriedade primeiroNome."
      ],
      "metadata": {
        "id": "nOgFwV-Of8Oe"
      }
    },
    {
      "cell_type": "code",
      "source": [
        "class Usuario():\n",
        "    def __init__(self, primeiroNome, ultimoNome):\n",
        "        self.primeiroNome = primeiroNome\n",
        "        self.ultimoNome = ultimoNome\n",
        "usuario1 = Usuario(\"Nikacia\", \"Boing\")\n",
        "print(usuario1.primeiroNome)\n",
        "print(usuario1.ultimoNome)"
      ],
      "metadata": {
        "colab": {
          "base_uri": "https://localhost:8080/"
        },
        "id": "KWywNlApgKIc",
        "outputId": "094d6114-2983-4217-ed62-815fec6d4251"
      },
      "execution_count": null,
      "outputs": [
        {
          "output_type": "stream",
          "name": "stdout",
          "text": [
            "Nikacia\n",
            "Boing\n"
          ]
        }
      ]
    },
    {
      "cell_type": "markdown",
      "source": [
        "3. Adicione à classe Usuario um método chamado getNomeCompleto() que retorna o nome\n",
        "completo do usuário."
      ],
      "metadata": {
        "id": "MeG6pWiEgO2e"
      }
    },
    {
      "cell_type": "code",
      "source": [
        "class Usuario():\n",
        "    def __init__(self, primeiroNome, ultimoNome):\n",
        "        self.primeiroNome = primeiroNome\n",
        "        self.ultimoNome = ultimoNome\n",
        "\n",
        "    def getNomeCompleto(self):\n",
        "        return f\"{self.primeiroNome} {self.ultimoNome}\"\n",
        "\n",
        "usuario1 = Usuario(\"Nikacia\", \"Boing\")\n",
        "print(usuario1.getNomeCompleto())"
      ],
      "metadata": {
        "colab": {
          "base_uri": "https://localhost:8080/"
        },
        "id": "l_wAEFOMgPrK",
        "outputId": "3c538c01-4469-41d5-9044-055fc87e46af"
      },
      "execution_count": null,
      "outputs": [
        {
          "output_type": "stream",
          "name": "stdout",
          "text": [
            "Nikacia Boing\n"
          ]
        }
      ]
    },
    {
      "cell_type": "markdown",
      "source": [
        "4. Crie um novo objeto, usuario1, e passe para o construtor os valores do primeiro e último nome. O\n",
        "primeiro nome é \"Johnny\" e o sobrenome é \"Bravo\" (você pode escolher sua combinação preferida\n",
        "de primeiro e último nome)."
      ],
      "metadata": {
        "id": "GI8absgfhBC8"
      }
    },
    {
      "cell_type": "code",
      "source": [
        "usuario1 = Usuario(\"Johnny\", \"Bravo\")\n"
      ],
      "metadata": {
        "id": "n5ftDH8KhCFp"
      },
      "execution_count": null,
      "outputs": []
    },
    {
      "cell_type": "markdown",
      "source": [
        "5. Obtenha o nome completo e imprima-o na tela."
      ],
      "metadata": {
        "id": "dtCc2tMXgp4v"
      }
    },
    {
      "cell_type": "code",
      "source": [
        "\n",
        "nomeCompleto = usuario1.getNomeCompleto()\n",
        "print(nomeCompleto)"
      ],
      "metadata": {
        "colab": {
          "base_uri": "https://localhost:8080/"
        },
        "id": "Slrx-GAyg4mJ",
        "outputId": "b12c8f86-17fa-43db-9d4f-cd9f0131e462"
      },
      "execution_count": null,
      "outputs": [
        {
          "output_type": "stream",
          "name": "stdout",
          "text": [
            "Johnny Bravo\n"
          ]
        }
      ]
    },
    {
      "cell_type": "markdown",
      "source": [
        "ATIVIDADE 2\n",
        "1. Qual palavra-chave (keyword) você usaria para ter acesso às propriedades e métodos de uma classe\n",
        "estando dentro dela?\n",
        "a) A palavra-chave new\n",
        "b) A palavra-chave this\n",
        "c) A palavra-chave self"
      ],
      "metadata": {
        "id": "1dsNrkjEinEV"
      }
    },
    {
      "cell_type": "markdown",
      "source": [
        "LETRA C , palavra chave self"
      ],
      "metadata": {
        "id": "KSQBpZ_Bj7kF"
      }
    },
    {
      "cell_type": "markdown",
      "source": [
        "\n",
        "2. Acrescente ao método hello() a capacidade de acessar a propriedade primeiroNome, para que\n",
        "o método possa retornar a string \"Olá, primeiroNome\"."
      ],
      "metadata": {
        "id": "C2QirSGgkBWt"
      }
    },
    {
      "cell_type": "code",
      "source": [
        "class Usuario():\n",
        "    primeiroNome = \"\"\n",
        "    ultimoNome = \"\"\n",
        "\n",
        "    def hello(self):\n",
        "        return f\"Olá, {self.primeiroNome}\"\n",
        "\n",
        "usuario1 = Usuario()\n",
        "usuario1.primeiroNome = \"Nikacia\"\n",
        "print(usuario1.hello())"
      ],
      "metadata": {
        "colab": {
          "base_uri": "https://localhost:8080/"
        },
        "id": "qERxhfwXjE57",
        "outputId": "b17d1afd-7957-436e-9456-34794c2595c5"
      },
      "execution_count": null,
      "outputs": [
        {
          "output_type": "stream",
          "name": "stdout",
          "text": [
            "Olá, Nikacia\n"
          ]
        }
      ]
    },
    {
      "cell_type": "markdown",
      "source": [
        "3. Crie um novo objeto com o primeiro nome de \"Jonnie\" e sobrenome de \"Bravo\"."
      ],
      "metadata": {
        "id": "OykNnOt2lQCo"
      }
    },
    {
      "cell_type": "code",
      "source": [
        "class Usuario():\n",
        "    def __init__(self, primeiroNome, ultimoNome):\n",
        "        self.primeiroNome = primeiroNome\n",
        "        self.ultimoNome = ultimoNome\n",
        "\n",
        "    def getNomeCompleto(self):\n",
        "        return f\"{self.primeiroNome} {self.ultimoNome}\"\n",
        "\n",
        "usuario1 = Usuario(\"Jonnie\", \"Bravo\")\n",
        "\n",
        "print(usuario1.getNomeCompleto())"
      ],
      "metadata": {
        "colab": {
          "base_uri": "https://localhost:8080/"
        },
        "id": "-1Y_CiMWlU9g",
        "outputId": "edc55664-2818-49a7-ffe0-2ca5e4d5dc12"
      },
      "execution_count": null,
      "outputs": [
        {
          "output_type": "stream",
          "name": "stdout",
          "text": [
            "Jonnie Bravo\n"
          ]
        }
      ]
    },
    {
      "cell_type": "markdown",
      "source": [
        "4. Use o comando print no método hello() para o objeto usuario1 e observe o resultado."
      ],
      "metadata": {
        "id": "689WiT5SlaqH"
      }
    },
    {
      "cell_type": "code",
      "source": [
        "class Usuario():\n",
        "    def __init__(self, primeiroNome, ultimoNome):\n",
        "        self.primeiroNome = primeiroNome\n",
        "        self.ultimoNome = ultimoNome\n",
        "\n",
        "    def hello(self):\n",
        "        return f\"Olá, {self.primeiroNome}\"\n",
        "\n",
        "usuario1 = Usuario(\"Jonnie\", \"Bravo\")\n",
        "print(usuario1.hello())"
      ],
      "metadata": {
        "colab": {
          "base_uri": "https://localhost:8080/"
        },
        "id": "jwhpN7DWlaPC",
        "outputId": "f156733e-d6fc-4c40-9be2-65034f7fb588"
      },
      "execution_count": null,
      "outputs": [
        {
          "output_type": "stream",
          "name": "stdout",
          "text": [
            "Olá, Jonnie\n"
          ]
        }
      ]
    }
  ]
}