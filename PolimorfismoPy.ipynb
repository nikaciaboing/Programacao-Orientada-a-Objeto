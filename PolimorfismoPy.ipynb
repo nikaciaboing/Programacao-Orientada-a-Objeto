{
  "nbformat": 4,
  "nbformat_minor": 0,
  "metadata": {
    "colab": {
      "provenance": [],
      "authorship_tag": "ABX9TyPRl6bi1IAVs4teEDWvnf8o",
      "include_colab_link": true
    },
    "kernelspec": {
      "name": "python3",
      "display_name": "Python 3"
    },
    "language_info": {
      "name": "python"
    }
  },
  "cells": [
    {
      "cell_type": "markdown",
      "metadata": {
        "id": "view-in-github",
        "colab_type": "text"
      },
      "source": [
        "<a href=\"https://colab.research.google.com/github/nikaciaboing/Programacao-Orientada-a-Objeto/blob/main/PolimorfismoPy.ipynb\" target=\"_parent\"><img src=\"https://colab.research.google.com/assets/colab-badge.svg\" alt=\"Open In Colab\"/></a>"
      ]
    },
    {
      "cell_type": "markdown",
      "source": [
        "1. Crie uma hierarquia de classes para animais, com uma classe mãe Animal e subclasses Cachorro,\n",
        "Gato e Peixe. Cada subclasse deve ter um método falar() que retorne uma string\n",
        "representando o som que o animal faz. Demonstre o polimorfismo chamando falar() nas\n",
        "instâncias de cada subclasse."
      ],
      "metadata": {
        "id": "BPOtrJJvtKe8"
      }
    },
    {
      "cell_type": "code",
      "execution_count": 1,
      "metadata": {
        "id": "4K4oYFMHmDgm",
        "colab": {
          "base_uri": "https://localhost:8080/"
        },
        "outputId": "1b176b3d-f74e-45ca-e889-c330a359c015"
      },
      "outputs": [
        {
          "output_type": "stream",
          "name": "stdout",
          "text": [
            "Au au!\n",
            "Miau!\n",
            "...\n"
          ]
        }
      ],
      "source": [
        "class Animal:\n",
        "    def falar(self):\n",
        "        pass\n",
        "\n",
        "class Cachorro(Animal):\n",
        "    def falar(self):\n",
        "        return \"Au au!\"\n",
        "\n",
        "class Gato(Animal):\n",
        "    def falar(self):\n",
        "        return \"Miau!\"\n",
        "\n",
        "class Peixe(Animal):\n",
        "    def falar(self):\n",
        "        return \"...\"\n",
        "\n",
        "animais = [Cachorro(), Gato(), Peixe()]\n",
        "for animal in animais:\n",
        "    print(animal.falar())"
      ]
    },
    {
      "cell_type": "markdown",
      "source": [
        "2. Crie uma classe Animal com um método falar(). Em seguida, crie duas classes filhas,\n",
        "Cachorro e Gato, que herdam da classe Animal. Cada uma destas classes filhas deve ter seu\n",
        "próprio método falar() que retorne um som diferente (e.g. latidos para o cachorro e miados para\n",
        "o gato). Em seguida, crie uma lista de animais que inclua um cachorro e um gato. Por fim, itere\n",
        "sobre a lista e chame o método falar() de cada animal."
      ],
      "metadata": {
        "id": "3ME0y5tFtWgc"
      }
    },
    {
      "cell_type": "code",
      "source": [
        "class Animal:\n",
        "    def falar(self):\n",
        "        pass\n",
        "\n",
        "class Cachorro(Animal):\n",
        "    def falar(self):\n",
        "        return \"Au au!\"\n",
        "\n",
        "class Gato(Animal):\n",
        "    def falar(self):\n",
        "        return \"Miau!\"\n",
        "\n",
        "animais = [Cachorro(), Gato()]\n",
        "for animal in animais:\n",
        "    print(animal.falar())"
      ],
      "metadata": {
        "colab": {
          "base_uri": "https://localhost:8080/"
        },
        "id": "ZoP2KE0itbvS",
        "outputId": "f46f1275-81ea-4d4c-c2dc-bf8fd47b7500"
      },
      "execution_count": 2,
      "outputs": [
        {
          "output_type": "stream",
          "name": "stdout",
          "text": [
            "Au au!\n",
            "Miau!\n"
          ]
        }
      ]
    },
    {
      "cell_type": "markdown",
      "source": [
        "3. Crie uma classe chamada Carro com um método dirigir(). Em seguida, crie duas subclasses,\n",
        "CarroGasolina e CarroEletrico, cada uma com sua própria implementação de dirigir().\n",
        "Demonstre o polimorfismo passando instâncias de ambas as subclasses para uma função que recebe\n",
        "um objeto Carro."
      ],
      "metadata": {
        "id": "EowLaFYrtlIq"
      }
    },
    {
      "cell_type": "code",
      "source": [
        "class Carro:\n",
        "    def dirigir(self):\n",
        "        pass\n",
        "\n",
        "class CarroGasolina(Carro):\n",
        "    def dirigir(self):\n",
        "        return \"Dirigindo carro a gasolina.\"\n",
        "\n",
        "class CarroEletrico(Carro):\n",
        "    def dirigir(self):\n",
        "        return \"Dirigindo carro elétrico.\"\n",
        "\n",
        "def testar_conducao(carro):\n",
        "    print(carro.dirigir())\n",
        "\n",
        "testar_conducao(CarroGasolina())\n",
        "testar_conducao(CarroEletrico())"
      ],
      "metadata": {
        "colab": {
          "base_uri": "https://localhost:8080/"
        },
        "id": "84Z-GWrKtuBc",
        "outputId": "3b1f1dcc-3ecc-4734-c357-0e4abafe6100"
      },
      "execution_count": 3,
      "outputs": [
        {
          "output_type": "stream",
          "name": "stdout",
          "text": [
            "Dirigindo carro a gasolina.\n",
            "Dirigindo carro elétrico.\n"
          ]
        }
      ]
    },
    {
      "cell_type": "markdown",
      "source": [
        "4. Crie uma classe Forma com um método area(). Em seguida, crie duas classes filhas, Circulo e\n",
        "Quadrado, que herdam da classe Forma. Cada uma destas classes filhas deve ter seu próprio\n",
        "método area() que calcula a área do círculo ou do quadrado, respectivamente. Em seguida, crie\n",
        "uma lista de formas que inclua um círculo e um quadrado. Por fim, itere sobre a lista e chame o\n",
        "método area() de cada forma."
      ],
      "metadata": {
        "id": "EZjY-1Q6tvrq"
      }
    },
    {
      "cell_type": "code",
      "source": [
        "import math\n",
        "\n",
        "class Forma:\n",
        "    def area(self):\n",
        "        pass\n",
        "\n",
        "class Circulo(Forma):\n",
        "    def __init__(self, raio):\n",
        "        self.raio = raio\n",
        "\n",
        "    def area(self):\n",
        "        return math.pi * self.raio ** 2\n",
        "\n",
        "class Quadrado(Forma):\n",
        "    def __init__(self, lado):\n",
        "        self.lado = lado\n",
        "\n",
        "    def area(self):\n",
        "        return self.lado ** 2\n",
        "\n",
        "formas = [Circulo(5), Quadrado(4)]\n",
        "for forma in formas:\n",
        "    print(forma.area())"
      ],
      "metadata": {
        "colab": {
          "base_uri": "https://localhost:8080/"
        },
        "id": "QzZCKLSotxyn",
        "outputId": "9b3bb33f-8176-4273-cd74-4da44d98ad12"
      },
      "execution_count": 4,
      "outputs": [
        {
          "output_type": "stream",
          "name": "stdout",
          "text": [
            "78.53981633974483\n",
            "16\n"
          ]
        }
      ]
    },
    {
      "cell_type": "markdown",
      "source": [
        "5. Crie uma classe Empregado com um método pagar_salario(). Em seguida, crie duas classes\n",
        "filhas, EmpregadoHora e EmpregadoMes, que herdam da classe Empregado. Cada uma das\n",
        "classes filhas deve ter seu próprio método pagar_salario() que calcula o salário com base no\n",
        "número de horas trabalhadas ou no salário mensal, respectivamente. Em seguida, crie uma lista de\n",
        "funcionários que inclua um funcionário horista e um funcionário mensalista. Por fim, itere sobre a\n",
        "lista e chame o método pagar_salario() de cada funcionário."
      ],
      "metadata": {
        "id": "Pq4KMBi5t0O6"
      }
    },
    {
      "cell_type": "code",
      "source": [
        "class Empregado:\n",
        "    def pagar_salario(self):\n",
        "        pass\n",
        "\n",
        "class EmpregadoHora(Empregado):\n",
        "    def __init__(self, horas, valor_por_hora):\n",
        "        self.horas = horas\n",
        "        self.valor_por_hora = valor_por_hora\n",
        "\n",
        "    def pagar_salario(self):\n",
        "        return self.horas * self.valor_por_hora\n",
        "\n",
        "class EmpregadoMes(Empregado):\n",
        "    def __init__(self, salario_mensal):\n",
        "        self.salario_mensal = salario_mensal\n",
        "\n",
        "    def pagar_salario(self):\n",
        "        return self.salario_mensal\n",
        "\n",
        "empregados = [EmpregadoHora(160, 20), EmpregadoMes(3000)]\n",
        "for empregado in empregados:\n",
        "    print(empregado.pagar_salario())"
      ],
      "metadata": {
        "colab": {
          "base_uri": "https://localhost:8080/"
        },
        "id": "RzRA41QsuBlX",
        "outputId": "8c8dd04a-8be8-4157-bb0e-4c5486e8227e"
      },
      "execution_count": 7,
      "outputs": [
        {
          "output_type": "stream",
          "name": "stdout",
          "text": [
            "3200\n",
            "3000\n"
          ]
        }
      ]
    },
    {
      "cell_type": "markdown",
      "source": [
        "6. Crie uma classe chamada ContaBancaria com os métodos deposito() e retirada(). Crie\n",
        "duas subclasses: ContaPoupanca e ContaCorrente. Cada uma dessas subclasses deve ter sua\n",
        "própria taxa de juros (a taxa de juros da Conta Poupança é maior que a da Conta Corrente)."
      ],
      "metadata": {
        "id": "nKeLC7T2uvOJ"
      }
    },
    {
      "cell_type": "code",
      "source": [
        "class ContaBancaria:\n",
        "    def __init__(self, saldo):\n",
        "        self.saldo = saldo\n",
        "\n",
        "    def deposito(self, valor):\n",
        "        self.saldo += valor\n",
        "\n",
        "    def retirada(self, valor):\n",
        "        if valor <= self.saldo:\n",
        "            self.saldo -= valor\n",
        "        else:\n",
        "            print(\"Saldo insuficiente!\")\n",
        "\n",
        "class ContaPoupanca(ContaBancaria):\n",
        "    taxa_juros = 0.03\n",
        "\n",
        "class ContaCorrente(ContaBancaria):\n",
        "    taxa_juros = 0.01\n",
        "\n",
        "conta_poupanca = ContaPoupanca(1000)\n",
        "conta_corrente = ContaCorrente(1000)\n",
        "\n",
        "print(f\"Taxa de juros da poupança: {conta_poupanca.taxa_juros}\")\n",
        "print(f\"Taxa de juros da conta corrente: {conta_corrente.taxa_juros}\")"
      ],
      "metadata": {
        "colab": {
          "base_uri": "https://localhost:8080/"
        },
        "id": "7vN2JwG_uzcq",
        "outputId": "79def1eb-6cb3-48f1-d04a-b58b76a278f4"
      },
      "execution_count": 8,
      "outputs": [
        {
          "output_type": "stream",
          "name": "stdout",
          "text": [
            "Taxa de juros da poupança: 0.03\n",
            "Taxa de juros da conta corrente: 0.01\n"
          ]
        }
      ]
    },
    {
      "cell_type": "markdown",
      "source": [
        "Nesta atividade prática, vamos retornar à classe Usuario que usamos nas atividades anteriores. Para\n",
        "implementar o princípio do polimorfismo, criaremos uma classe chamada Usuario. A partir dela\n",
        "criaremos algumas classes como: para calcular o número de pontuações que um usuário tem, e o número\n",
        "de artigos que ele criou ou editou. Baseado nesta classe (Usuario), vamos criar as classes Autor e\n",
        "Editor, e ambas calcularão o número de pontuações com o método calcPontuacao(), embora o\n",
        "valor calculado seja diferente entre estas duas classes.\n",
        "\n",
        "Este é o esqueleto da classe Usuario:\n",
        "class Usuario:\n",
        "pontos = 0\n",
        "numeroDeArtigos = 0\n",
        "\n",
        "Métodos vão aqui\n",
        "\n",
        "1. Acrescente na classe Usuario métodos para definir e obter o número de artigos:\n",
        "\n",
        "a) setNumeroDeArtigos(self, nart)\n",
        "\n",
        "b) getNumeroDeArtigos(self)\n",
        "\n",
        "Obs: variável nart deve ser um inteiro\n",
        "\n",
        "2. Acrescente à classe o método chamado calcPontuacao(), que realiza os cálculos das pontuações\n",
        "separadamente para cada classe.\n",
        "\n",
        "3. Crie uma classe chamada Autor que herda da classe de Usuario. Nesta classe (Autor) crie um\n",
        "método chamado calcPontuacao() que retorna o número de pontuações usando o seguinte\n",
        "cálculo:\n",
        "\n",
        "numeroDeArtigos * 10 + 20\n",
        "\n",
        "4. Agora crie também uma classe chamada Editor que herda da classe Usuario. Nesta classe\n",
        "(Editor), crie um método chamado calcPontuacao() que retorne o número de pontuações\n",
        "usando o seguinte cálculo:\n",
        "\n",
        "numeroDeArtigos * 6 + 15\n",
        "\n",
        "5. Crie um objeto chamado autor1, a partir da classe Autor. Agora defina o número de artigos como\n",
        "8 e imprima as pontuações obtidas pelo autor.\n",
        "\n",
        "6. Crie outro objeto chamado editor1, a partir da classe Editor. Agora defina o número de artigos\n",
        "para 15 e imprima as pontuações que o editor ganhou."
      ],
      "metadata": {
        "id": "c_ND151xu6Mm"
      }
    },
    {
      "cell_type": "code",
      "source": [
        "class Usuario:\n",
        "    def __init__(self):\n",
        "        self.numeroDeArtigos = 0\n",
        "\n",
        "    def setNumeroDeArtigos(self, nart):\n",
        "        if isinstance(nart, int) and nart >= 0:\n",
        "            self.numeroDeArtigos = nart\n",
        "        else:\n",
        "            print(\"Erro: O número de artigos deve ser um inteiro positivo.\")\n",
        "\n",
        "    def getNumeroDeArtigos(self):\n",
        "        return self.numeroDeArtigos\n",
        "\n",
        "    def calcPontuacao(self):\n",
        "        return 0\n",
        "\n",
        "class Autor(Usuario):\n",
        "    def calcPontuacao(self):\n",
        "        return self.numeroDeArtigos * 10 + 20\n",
        "\n",
        "class Editor(Usuario):\n",
        "    def calcPontuacao(self):\n",
        "        return self.numeroDeArtigos * 6 + 15\n",
        "\n",
        "# Criando um objeto da classe Autor\n",
        "autor1 = Autor()\n",
        "autor1.setNumeroDeArtigos(8)\n",
        "print(f\"O autor tem {autor1.getNumeroDeArtigos()} artigos e {autor1.calcPontuacao()} pontos.\")\n",
        "\n",
        "# Criando um objeto da classe Editor\n",
        "editor1 = Editor()\n",
        "editor1.setNumeroDeArtigos(15)\n",
        "print(f\"O editor tem {editor1.getNumeroDeArtigos()} artigos e {editor1.calcPontuacao()} pontos.\")"
      ],
      "metadata": {
        "colab": {
          "base_uri": "https://localhost:8080/"
        },
        "id": "WfL1dTEmu-VH",
        "outputId": "d8e8a0a8-58f1-40b0-c70e-081defb06c88"
      },
      "execution_count": 9,
      "outputs": [
        {
          "output_type": "stream",
          "name": "stdout",
          "text": [
            "O autor tem 8 artigos e 100 pontos.\n",
            "O editor tem 15 artigos e 105 pontos.\n"
          ]
        }
      ]
    }
  ]
}