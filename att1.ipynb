{
  "nbformat": 4,
  "nbformat_minor": 0,
  "metadata": {
    "colab": {
      "provenance": [],
      "authorship_tag": "ABX9TyPhLViRAtL01YZq1sQzgnlk",
      "include_colab_link": true
    },
    "kernelspec": {
      "name": "python3",
      "display_name": "Python 3"
    },
    "language_info": {
      "name": "python"
    }
  },
  "cells": [
    {
      "cell_type": "markdown",
      "metadata": {
        "id": "view-in-github",
        "colab_type": "text"
      },
      "source": [
        "<a href=\"https://colab.research.google.com/github/nikaciaboing/Programacao-Orientada-a-Objeto/blob/main/att1.ipynb\" target=\"_parent\"><img src=\"https://colab.research.google.com/assets/colab-badge.svg\" alt=\"Open In Colab\"/></a>"
      ]
    },
    {
      "cell_type": "markdown",
      "source": [
        "Escreva a classe Usuario e adicione as propriedades e o método (em Python):"
      ],
      "metadata": {
        "id": "ZiX2CMT9q7QT"
      }
    },
    {
      "cell_type": "code",
      "execution_count": null,
      "metadata": {
        "colab": {
          "base_uri": "https://localhost:8080/"
        },
        "id": "Tgm7dI-7q0wa",
        "outputId": "15572e5b-eed4-40da-b7f0-19ef341f2e3b"
      },
      "outputs": [
        {
          "output_type": "stream",
          "name": "stdout",
          "text": [
            "Nome: Nikacia, Idade: 19, Email: nikacia@email.com\n"
          ]
        }
      ],
      "source": [
        "class Usuario:\n",
        "    def __init__(self, nome, idade, email):\n",
        "        self.nome = nome\n",
        "        self.idade = idade\n",
        "        self.email = email\n",
        "\n",
        "    def exibir_informacoes(self):\n",
        "        return f\"Nome: {self.nome}, Idade: {self.idade}, Email: {self.email}\"\n",
        "\n",
        "usuario1 = Usuario(\"Nikacia\", 19, \"nikacia@email.com\")\n",
        "print(usuario1.exibir_informacoes())"
      ]
    },
    {
      "cell_type": "markdown",
      "source": [
        "7. Crie a primeira instância e chame-a de usuario1."
      ],
      "metadata": {
        "id": "PBMrH960rCE0"
      }
    },
    {
      "cell_type": "code",
      "source": [
        "usuario1 = Usuario(\"Nikacia\", 19, \"nikacia@email.com\")\n",
        "\n",
        "print(usuario1.exibir_informacoes())"
      ],
      "metadata": {
        "colab": {
          "base_uri": "https://localhost:8080/"
        },
        "id": "UdXYyrQcrEW8",
        "outputId": "21851477-0dfd-4a47-d316-8b988366d1f4"
      },
      "execution_count": null,
      "outputs": [
        {
          "output_type": "stream",
          "name": "stdout",
          "text": [
            "Nome: Nikacia, Idade: 19, Email: nikacia@email.com\n"
          ]
        }
      ]
    },
    {
      "cell_type": "markdown",
      "source": [
        "8. Defina os valores do primeiro e último nome para usuario1."
      ],
      "metadata": {
        "id": "qxfwpWghrEsg"
      }
    },
    {
      "cell_type": "code",
      "source": [
        "class Usuario:\n",
        "    def __init__(self, primeiro_nome, ultimo_nome, idade, email):\n",
        "        self.primeiro_nome = primeiro_nome\n",
        "        self.ultimo_nome = ultimo_nome\n",
        "        self.idade = idade\n",
        "        self.email = email\n",
        "\n",
        "    def exibir_informacoes(self):\n",
        "        return f\"Nome: {self.primeiro_nome} {self.ultimo_nome}, Idade: {self.idade}, Email: {self.email}\"\n",
        "\n",
        "usuario1 = Usuario(\"Nikacia\", \"Boing\", 19, \"nikacia@email.com\")\n",
        "print(usuario1.exibir_informacoes())"
      ],
      "metadata": {
        "colab": {
          "base_uri": "https://localhost:8080/"
        },
        "id": "JHtsy-ldrK9H",
        "outputId": "9ee23e37-6f6e-420f-cd8a-a9322a91b6c3"
      },
      "execution_count": null,
      "outputs": [
        {
          "output_type": "stream",
          "name": "stdout",
          "text": [
            "Nome: Nikacia Boing, Idade: 19, Email: nikacia@email.com\n"
          ]
        }
      ]
    },
    {
      "cell_type": "markdown",
      "source": [
        "9. Obter o nome e sobrenome do usuário e imprima-os na tela com o comando print."
      ],
      "metadata": {
        "id": "hTfzaygmsazE"
      }
    },
    {
      "cell_type": "code",
      "source": [
        "print(\"Primeiro Nome:\", usuario1.primeiro_nome)\n",
        "print(\"Sobrenome:\", usuario1.ultimo_nome)"
      ],
      "metadata": {
        "colab": {
          "base_uri": "https://localhost:8080/"
        },
        "id": "f2V0lt8UsbY6",
        "outputId": "022fc18a-4929-4dd8-dff7-bb7cc55de384"
      },
      "execution_count": null,
      "outputs": [
        {
          "output_type": "stream",
          "name": "stdout",
          "text": [
            "Primeiro Nome: Nikacia\n",
            "Sobrenome: Boing\n"
          ]
        }
      ]
    },
    {
      "cell_type": "markdown",
      "source": [
        "10. Use o método que retorna “Olá” com as variáveis primeiro nome e último nome para dizer Olá ao\n",
        "usuário."
      ],
      "metadata": {
        "id": "bKVpTsnRsdrV"
      }
    },
    {
      "cell_type": "code",
      "source": [
        "class Usuario:\n",
        "    def __init__(self, primeiro_nome, ultimo_nome, idade, email):\n",
        "        self.primeiro_nome = primeiro_nome\n",
        "        self.ultimo_nome = ultimo_nome\n",
        "        self.idade = idade\n",
        "        self.email = email\n",
        "\n",
        "    def exibir_informacoes(self):\n",
        "        return f\"Nome: {self.primeiro_nome} {self.ultimo_nome}, Idade: {self.idade}, Email: {self.email}\"\n",
        "\n",
        "    def saudacao(self):\n",
        "        return f\"Olá, {self.primeiro_nome} {self.ultimo_nome}!\"\n",
        "\n",
        "usuario1 = Usuario(\"Nikacia\", \"Boing\", 25, \"nikacia@email.com\")\n",
        "\n",
        "print(usuario1.saudacao())"
      ],
      "metadata": {
        "colab": {
          "base_uri": "https://localhost:8080/"
        },
        "id": "0TUq5jyBseb9",
        "outputId": "2aba9236-a9e0-4cc5-efe9-2586556be895"
      },
      "execution_count": null,
      "outputs": [
        {
          "output_type": "stream",
          "name": "stdout",
          "text": [
            "Olá, Nikacia Boing!\n"
          ]
        }
      ]
    },
    {
      "cell_type": "markdown",
      "source": [
        "11. Crie (instancie) outro objeto. Chame-o de usuario2, dê a ele o primeiro nome de “Jane” e o\n",
        "sobrenome de “Silva”, e depois diga “Olá” ao usuário."
      ],
      "metadata": {
        "id": "3Y8RTL24spNa"
      }
    },
    {
      "cell_type": "code",
      "source": [
        "usuario2 = Usuario(\"Jane\", \"Silva\", 30, \"jane.silva@email.com\")\n",
        "print(usuario2.saudacao())"
      ],
      "metadata": {
        "id": "gaPdkcsYsqBc"
      },
      "execution_count": null,
      "outputs": []
    }
  ]
}